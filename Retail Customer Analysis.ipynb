{
 "cells": [
  {
   "cell_type": "code",
   "execution_count": 2,
   "id": "3ce36074",
   "metadata": {},
   "outputs": [
    {
     "name": "stdout",
     "output_type": "stream",
     "text": [
      "CPU times: user 2.7 s, sys: 1.15 s, total: 3.85 s\n",
      "Wall time: 1min 10s\n"
     ]
    }
   ],
   "source": [
    "%%time\n",
    "#import starndard packages\n",
    "import pandas as pd \n",
    "import numpy as np\n",
    "import seaborn as sns\n",
    "import matplotlib.pyplot as plt \n",
    "\n",
    "#load the available data overview\n",
    "df=pd.read_csv(\"https://raw.githubusercontent.com/anilak1978/ecommerce/master/OnlineRetail.csv\",encoding=\"ISO-8859-1\",low_memory=False)"
   ]
  },
  {
   "cell_type": "code",
   "execution_count": 3,
   "id": "377dd1f0",
   "metadata": {},
   "outputs": [
    {
     "data": {
      "text/html": [
       "<div>\n",
       "<style scoped>\n",
       "    .dataframe tbody tr th:only-of-type {\n",
       "        vertical-align: middle;\n",
       "    }\n",
       "\n",
       "    .dataframe tbody tr th {\n",
       "        vertical-align: top;\n",
       "    }\n",
       "\n",
       "    .dataframe thead th {\n",
       "        text-align: right;\n",
       "    }\n",
       "</style>\n",
       "<table border=\"1\" class=\"dataframe\">\n",
       "  <thead>\n",
       "    <tr style=\"text-align: right;\">\n",
       "      <th></th>\n",
       "      <th>InvoiceNo</th>\n",
       "      <th>StockCode</th>\n",
       "      <th>Description</th>\n",
       "      <th>Quantity</th>\n",
       "      <th>InvoiceDate</th>\n",
       "      <th>UnitPrice</th>\n",
       "      <th>CustomerID</th>\n",
       "      <th>Country</th>\n",
       "    </tr>\n",
       "  </thead>\n",
       "  <tbody>\n",
       "    <tr>\n",
       "      <th>0</th>\n",
       "      <td>536365</td>\n",
       "      <td>85123A</td>\n",
       "      <td>WHITE HANGING HEART T-LIGHT HOLDER</td>\n",
       "      <td>6</td>\n",
       "      <td>12/1/2010 8:26</td>\n",
       "      <td>2.55</td>\n",
       "      <td>17850.0</td>\n",
       "      <td>United Kingdom</td>\n",
       "    </tr>\n",
       "    <tr>\n",
       "      <th>1</th>\n",
       "      <td>536365</td>\n",
       "      <td>71053</td>\n",
       "      <td>WHITE METAL LANTERN</td>\n",
       "      <td>6</td>\n",
       "      <td>12/1/2010 8:26</td>\n",
       "      <td>3.39</td>\n",
       "      <td>17850.0</td>\n",
       "      <td>United Kingdom</td>\n",
       "    </tr>\n",
       "    <tr>\n",
       "      <th>2</th>\n",
       "      <td>536365</td>\n",
       "      <td>84406B</td>\n",
       "      <td>CREAM CUPID HEARTS COAT HANGER</td>\n",
       "      <td>8</td>\n",
       "      <td>12/1/2010 8:26</td>\n",
       "      <td>2.75</td>\n",
       "      <td>17850.0</td>\n",
       "      <td>United Kingdom</td>\n",
       "    </tr>\n",
       "    <tr>\n",
       "      <th>3</th>\n",
       "      <td>536365</td>\n",
       "      <td>84029G</td>\n",
       "      <td>KNITTED UNION FLAG HOT WATER BOTTLE</td>\n",
       "      <td>6</td>\n",
       "      <td>12/1/2010 8:26</td>\n",
       "      <td>3.39</td>\n",
       "      <td>17850.0</td>\n",
       "      <td>United Kingdom</td>\n",
       "    </tr>\n",
       "    <tr>\n",
       "      <th>4</th>\n",
       "      <td>536365</td>\n",
       "      <td>84029E</td>\n",
       "      <td>RED WOOLLY HOTTIE WHITE HEART.</td>\n",
       "      <td>6</td>\n",
       "      <td>12/1/2010 8:26</td>\n",
       "      <td>3.39</td>\n",
       "      <td>17850.0</td>\n",
       "      <td>United Kingdom</td>\n",
       "    </tr>\n",
       "  </tbody>\n",
       "</table>\n",
       "</div>"
      ],
      "text/plain": [
       "  InvoiceNo StockCode                          Description  Quantity  \\\n",
       "0    536365    85123A   WHITE HANGING HEART T-LIGHT HOLDER         6   \n",
       "1    536365     71053                  WHITE METAL LANTERN         6   \n",
       "2    536365    84406B       CREAM CUPID HEARTS COAT HANGER         8   \n",
       "3    536365    84029G  KNITTED UNION FLAG HOT WATER BOTTLE         6   \n",
       "4    536365    84029E       RED WOOLLY HOTTIE WHITE HEART.         6   \n",
       "\n",
       "      InvoiceDate  UnitPrice  CustomerID         Country  \n",
       "0  12/1/2010 8:26       2.55     17850.0  United Kingdom  \n",
       "1  12/1/2010 8:26       3.39     17850.0  United Kingdom  \n",
       "2  12/1/2010 8:26       2.75     17850.0  United Kingdom  \n",
       "3  12/1/2010 8:26       3.39     17850.0  United Kingdom  \n",
       "4  12/1/2010 8:26       3.39     17850.0  United Kingdom  "
      ]
     },
     "execution_count": 3,
     "metadata": {},
     "output_type": "execute_result"
    }
   ],
   "source": [
    "df.head()"
   ]
  },
  {
   "cell_type": "markdown",
   "id": "01a5c9b6",
   "metadata": {},
   "source": [
    " df.info()"
   ]
  },
  {
   "cell_type": "code",
   "execution_count": 5,
   "id": "f04977c4",
   "metadata": {},
   "outputs": [
    {
     "data": {
      "text/plain": [
       "InvoiceNo           0\n",
       "StockCode           0\n",
       "Description      1454\n",
       "Quantity            0\n",
       "InvoiceDate         0\n",
       "UnitPrice           0\n",
       "CustomerID     135080\n",
       "Country             0\n",
       "dtype: int64"
      ]
     },
     "execution_count": 5,
     "metadata": {},
     "output_type": "execute_result"
    }
   ],
   "source": [
    "#Check for missing values\n",
    "df.isnull().sum()"
   ]
  },
  {
   "cell_type": "markdown",
   "id": "0b2a3d61",
   "metadata": {},
   "source": [
    "# Feature Engineering\n"
   ]
  },
  {
   "cell_type": "code",
   "execution_count": 11,
   "id": "c77fbdb5",
   "metadata": {},
   "outputs": [
    {
     "data": {
      "text/html": [
       "<div>\n",
       "<style scoped>\n",
       "    .dataframe tbody tr th:only-of-type {\n",
       "        vertical-align: middle;\n",
       "    }\n",
       "\n",
       "    .dataframe tbody tr th {\n",
       "        vertical-align: top;\n",
       "    }\n",
       "\n",
       "    .dataframe thead th {\n",
       "        text-align: right;\n",
       "    }\n",
       "</style>\n",
       "<table border=\"1\" class=\"dataframe\">\n",
       "  <thead>\n",
       "    <tr style=\"text-align: right;\">\n",
       "      <th></th>\n",
       "      <th>InvoiceNo</th>\n",
       "      <th>StockCode</th>\n",
       "      <th>Description</th>\n",
       "      <th>Quantity</th>\n",
       "      <th>InvoiceDate</th>\n",
       "      <th>UnitPrice</th>\n",
       "      <th>CustomerID</th>\n",
       "      <th>Country</th>\n",
       "      <th>Revenue</th>\n",
       "      <th>InvoiceMonth</th>\n",
       "      <th>InvoiceYear</th>\n",
       "    </tr>\n",
       "  </thead>\n",
       "  <tbody>\n",
       "    <tr>\n",
       "      <th>0</th>\n",
       "      <td>536365</td>\n",
       "      <td>85123A</td>\n",
       "      <td>WHITE HANGING HEART T-LIGHT HOLDER</td>\n",
       "      <td>6</td>\n",
       "      <td>2010-12-01 08:26:00</td>\n",
       "      <td>2.55</td>\n",
       "      <td>17850.0</td>\n",
       "      <td>United Kingdom</td>\n",
       "      <td>15.30</td>\n",
       "      <td>12</td>\n",
       "      <td>2010</td>\n",
       "    </tr>\n",
       "    <tr>\n",
       "      <th>1</th>\n",
       "      <td>536365</td>\n",
       "      <td>71053</td>\n",
       "      <td>WHITE METAL LANTERN</td>\n",
       "      <td>6</td>\n",
       "      <td>2010-12-01 08:26:00</td>\n",
       "      <td>3.39</td>\n",
       "      <td>17850.0</td>\n",
       "      <td>United Kingdom</td>\n",
       "      <td>20.34</td>\n",
       "      <td>12</td>\n",
       "      <td>2010</td>\n",
       "    </tr>\n",
       "    <tr>\n",
       "      <th>2</th>\n",
       "      <td>536365</td>\n",
       "      <td>84406B</td>\n",
       "      <td>CREAM CUPID HEARTS COAT HANGER</td>\n",
       "      <td>8</td>\n",
       "      <td>2010-12-01 08:26:00</td>\n",
       "      <td>2.75</td>\n",
       "      <td>17850.0</td>\n",
       "      <td>United Kingdom</td>\n",
       "      <td>22.00</td>\n",
       "      <td>12</td>\n",
       "      <td>2010</td>\n",
       "    </tr>\n",
       "    <tr>\n",
       "      <th>3</th>\n",
       "      <td>536365</td>\n",
       "      <td>84029G</td>\n",
       "      <td>KNITTED UNION FLAG HOT WATER BOTTLE</td>\n",
       "      <td>6</td>\n",
       "      <td>2010-12-01 08:26:00</td>\n",
       "      <td>3.39</td>\n",
       "      <td>17850.0</td>\n",
       "      <td>United Kingdom</td>\n",
       "      <td>20.34</td>\n",
       "      <td>12</td>\n",
       "      <td>2010</td>\n",
       "    </tr>\n",
       "    <tr>\n",
       "      <th>4</th>\n",
       "      <td>536365</td>\n",
       "      <td>84029E</td>\n",
       "      <td>RED WOOLLY HOTTIE WHITE HEART.</td>\n",
       "      <td>6</td>\n",
       "      <td>2010-12-01 08:26:00</td>\n",
       "      <td>3.39</td>\n",
       "      <td>17850.0</td>\n",
       "      <td>United Kingdom</td>\n",
       "      <td>20.34</td>\n",
       "      <td>12</td>\n",
       "      <td>2010</td>\n",
       "    </tr>\n",
       "  </tbody>\n",
       "</table>\n",
       "</div>"
      ],
      "text/plain": [
       "  InvoiceNo StockCode                          Description  Quantity  \\\n",
       "0    536365    85123A   WHITE HANGING HEART T-LIGHT HOLDER         6   \n",
       "1    536365     71053                  WHITE METAL LANTERN         6   \n",
       "2    536365    84406B       CREAM CUPID HEARTS COAT HANGER         8   \n",
       "3    536365    84029G  KNITTED UNION FLAG HOT WATER BOTTLE         6   \n",
       "4    536365    84029E       RED WOOLLY HOTTIE WHITE HEART.         6   \n",
       "\n",
       "          InvoiceDate  UnitPrice  CustomerID         Country  Revenue  \\\n",
       "0 2010-12-01 08:26:00       2.55     17850.0  United Kingdom    15.30   \n",
       "1 2010-12-01 08:26:00       3.39     17850.0  United Kingdom    20.34   \n",
       "2 2010-12-01 08:26:00       2.75     17850.0  United Kingdom    22.00   \n",
       "3 2010-12-01 08:26:00       3.39     17850.0  United Kingdom    20.34   \n",
       "4 2010-12-01 08:26:00       3.39     17850.0  United Kingdom    20.34   \n",
       "\n",
       "   InvoiceMonth  InvoiceYear  \n",
       "0            12         2010  \n",
       "1            12         2010  \n",
       "2            12         2010  \n",
       "3            12         2010  \n",
       "4            12         2010  "
      ]
     },
     "execution_count": 11,
     "metadata": {},
     "output_type": "execute_result"
    }
   ],
   "source": [
    "#Add revenue Varriable and update Invoice date\n",
    "df['Revenue']=df['UnitPrice']*df['Quantity']\n",
    "#converts invoice date to datatime data\n",
    "df['InvoiceDate']=pd.to_datetime(df['InvoiceDate'])\n",
    "#Creats months column\n",
    "df['InvoiceMonth']=pd.DatetimeIndex(df['InvoiceDate']).month\n",
    "#Creats Years column\n",
    "df[\"InvoiceYear\"]=pd.DatetimeIndex(df[\"InvoiceDate\"]).year\n",
    "df.head()"
   ]
  },
  {
   "cell_type": "markdown",
   "id": "535c18ab",
   "metadata": {},
   "source": [
    "# Data Exploration "
   ]
  },
  {
   "cell_type": "code",
   "execution_count": 14,
   "id": "54fe35c8",
   "metadata": {},
   "outputs": [
    {
     "data": {
      "text/html": [
       "<div>\n",
       "<style scoped>\n",
       "    .dataframe tbody tr th:only-of-type {\n",
       "        vertical-align: middle;\n",
       "    }\n",
       "\n",
       "    .dataframe tbody tr th {\n",
       "        vertical-align: top;\n",
       "    }\n",
       "\n",
       "    .dataframe thead th {\n",
       "        text-align: right;\n",
       "    }\n",
       "</style>\n",
       "<table border=\"1\" class=\"dataframe\">\n",
       "  <thead>\n",
       "    <tr style=\"text-align: right;\">\n",
       "      <th></th>\n",
       "      <th>Quantity</th>\n",
       "      <th>UnitPrice</th>\n",
       "      <th>CustomerID</th>\n",
       "      <th>Revenue</th>\n",
       "      <th>InvoiceMonth</th>\n",
       "      <th>InvoiceYear</th>\n",
       "    </tr>\n",
       "  </thead>\n",
       "  <tbody>\n",
       "    <tr>\n",
       "      <th>count</th>\n",
       "      <td>541909.000000</td>\n",
       "      <td>541909.000000</td>\n",
       "      <td>406829.000000</td>\n",
       "      <td>541909.000000</td>\n",
       "      <td>541909.000000</td>\n",
       "      <td>541909.000000</td>\n",
       "    </tr>\n",
       "    <tr>\n",
       "      <th>mean</th>\n",
       "      <td>9.552250</td>\n",
       "      <td>4.611114</td>\n",
       "      <td>15287.690570</td>\n",
       "      <td>17.987795</td>\n",
       "      <td>7.553128</td>\n",
       "      <td>2010.921609</td>\n",
       "    </tr>\n",
       "    <tr>\n",
       "      <th>std</th>\n",
       "      <td>218.081158</td>\n",
       "      <td>96.759853</td>\n",
       "      <td>1713.600303</td>\n",
       "      <td>378.810824</td>\n",
       "      <td>3.509055</td>\n",
       "      <td>0.268787</td>\n",
       "    </tr>\n",
       "    <tr>\n",
       "      <th>min</th>\n",
       "      <td>-80995.000000</td>\n",
       "      <td>-11062.060000</td>\n",
       "      <td>12346.000000</td>\n",
       "      <td>-168469.600000</td>\n",
       "      <td>1.000000</td>\n",
       "      <td>2010.000000</td>\n",
       "    </tr>\n",
       "    <tr>\n",
       "      <th>25%</th>\n",
       "      <td>1.000000</td>\n",
       "      <td>1.250000</td>\n",
       "      <td>13953.000000</td>\n",
       "      <td>3.400000</td>\n",
       "      <td>5.000000</td>\n",
       "      <td>2011.000000</td>\n",
       "    </tr>\n",
       "    <tr>\n",
       "      <th>50%</th>\n",
       "      <td>3.000000</td>\n",
       "      <td>2.080000</td>\n",
       "      <td>15152.000000</td>\n",
       "      <td>9.750000</td>\n",
       "      <td>8.000000</td>\n",
       "      <td>2011.000000</td>\n",
       "    </tr>\n",
       "    <tr>\n",
       "      <th>75%</th>\n",
       "      <td>10.000000</td>\n",
       "      <td>4.130000</td>\n",
       "      <td>16791.000000</td>\n",
       "      <td>17.400000</td>\n",
       "      <td>11.000000</td>\n",
       "      <td>2011.000000</td>\n",
       "    </tr>\n",
       "    <tr>\n",
       "      <th>max</th>\n",
       "      <td>80995.000000</td>\n",
       "      <td>38970.000000</td>\n",
       "      <td>18287.000000</td>\n",
       "      <td>168469.600000</td>\n",
       "      <td>12.000000</td>\n",
       "      <td>2011.000000</td>\n",
       "    </tr>\n",
       "  </tbody>\n",
       "</table>\n",
       "</div>"
      ],
      "text/plain": [
       "            Quantity      UnitPrice     CustomerID        Revenue  \\\n",
       "count  541909.000000  541909.000000  406829.000000  541909.000000   \n",
       "mean        9.552250       4.611114   15287.690570      17.987795   \n",
       "std       218.081158      96.759853    1713.600303     378.810824   \n",
       "min    -80995.000000  -11062.060000   12346.000000 -168469.600000   \n",
       "25%         1.000000       1.250000   13953.000000       3.400000   \n",
       "50%         3.000000       2.080000   15152.000000       9.750000   \n",
       "75%        10.000000       4.130000   16791.000000      17.400000   \n",
       "max     80995.000000   38970.000000   18287.000000  168469.600000   \n",
       "\n",
       "        InvoiceMonth    InvoiceYear  \n",
       "count  541909.000000  541909.000000  \n",
       "mean        7.553128    2010.921609  \n",
       "std         3.509055       0.268787  \n",
       "min         1.000000    2010.000000  \n",
       "25%         5.000000    2011.000000  \n",
       "50%         8.000000    2011.000000  \n",
       "75%        11.000000    2011.000000  \n",
       "max        12.000000    2011.000000  "
      ]
     },
     "execution_count": 14,
     "metadata": {},
     "output_type": "execute_result"
    }
   ],
   "source": [
    "#Descriptive statistics\n",
    "df.describe()"
   ]
  },
  {
   "cell_type": "markdown",
   "id": "10e299f3",
   "metadata": {},
   "source": [
    "# Monthly Revenue Overview"
   ]
  },
  {
   "cell_type": "code",
   "execution_count": 19,
   "id": "e6ce6949",
   "metadata": {},
   "outputs": [
    {
     "data": {
      "text/plain": [
       "Text(0, 0.5, 'Revenue')"
      ]
     },
     "execution_count": 19,
     "metadata": {},
     "output_type": "execute_result"
    },
    {
     "data": {
      "image/png": "[encoded data removed]",
      "text/plain": [
       "<Figure size 1080x720 with 1 Axes>"
      ]
     },
     "metadata": {
      "needs_background": "light"
     },
     "output_type": "display_data"
    }
   ],
   "source": [
    "%matplotlib inline\n",
    "#Monthly revenue overview\n",
    "df_revenue=df.groupby(['InvoiceMonth','InvoiceYear'])['Revenue'].sum().reset_index()\n",
    "plt.figure(figsize=(15,10))\n",
    "sns.barplot(x='InvoiceMonth',y='Revenue',hue='InvoiceYear',data=df_revenue)\n",
    "plt.title('Monthly Revenue')\n",
    "plt.xlabel('Month')\n",
    "plt.ylabel('Revenue')\n"
   ]
  },
  {
   "cell_type": "markdown",
   "id": "9605aa88",
   "metadata": {},
   "source": [
    "## We could use seaborn also"
   ]
  },
  {
   "cell_type": "code",
   "execution_count": 24,
   "id": "e43e59a5",
   "metadata": {},
   "outputs": [
    {
     "data": {
      "text/plain": [
       "<AxesSubplot:xlabel='InvoiceMonth', ylabel='Revenue'>"
      ]
     },
     "execution_count": 24,
     "metadata": {},
     "output_type": "execute_result"
    },
    {
     "data": {
      "image/png": "[encoded data removed]",
      "text/plain": [
       "<Figure size 432x288 with 1 Axes>"
      ]
     },
     "metadata": {
      "needs_background": "light"
     },
     "output_type": "display_data"
    }
   ],
   "source": [
    "sns.barplot(x='InvoiceMonth',y='Revenue',hue='InvoiceYear',data=df)"
   ]
  },
  {
   "cell_type": "code",
   "execution_count": 28,
   "id": "97389b7d",
   "metadata": {},
   "outputs": [
    {
     "data": {
      "text/html": [
       "<div>\n",
       "<style scoped>\n",
       "    .dataframe tbody tr th:only-of-type {\n",
       "        vertical-align: middle;\n",
       "    }\n",
       "\n",
       "    .dataframe tbody tr th {\n",
       "        vertical-align: top;\n",
       "    }\n",
       "\n",
       "    .dataframe thead th {\n",
       "        text-align: right;\n",
       "    }\n",
       "</style>\n",
       "<table border=\"1\" class=\"dataframe\">\n",
       "  <thead>\n",
       "    <tr style=\"text-align: right;\">\n",
       "      <th></th>\n",
       "      <th>InvoiceNo</th>\n",
       "      <th>StockCode</th>\n",
       "      <th>Description</th>\n",
       "      <th>Quantity</th>\n",
       "      <th>InvoiceDate</th>\n",
       "      <th>UnitPrice</th>\n",
       "      <th>CustomerID</th>\n",
       "      <th>Country</th>\n",
       "      <th>Revenue</th>\n",
       "      <th>InvoiceMonth</th>\n",
       "      <th>InvoiceYear</th>\n",
       "    </tr>\n",
       "  </thead>\n",
       "  <tbody>\n",
       "    <tr>\n",
       "      <th>516384</th>\n",
       "      <td>C579889</td>\n",
       "      <td>23245</td>\n",
       "      <td>SET OF 3 REGENCY CAKE TINS</td>\n",
       "      <td>-8</td>\n",
       "      <td>2011-12-01 08:12:00</td>\n",
       "      <td>4.15</td>\n",
       "      <td>13853.0</td>\n",
       "      <td>United Kingdom</td>\n",
       "      <td>-33.20</td>\n",
       "      <td>12</td>\n",
       "      <td>2011</td>\n",
       "    </tr>\n",
       "    <tr>\n",
       "      <th>516385</th>\n",
       "      <td>C579890</td>\n",
       "      <td>84947</td>\n",
       "      <td>ANTIQUE SILVER TEA GLASS ENGRAVED</td>\n",
       "      <td>-1</td>\n",
       "      <td>2011-12-01 08:14:00</td>\n",
       "      <td>1.25</td>\n",
       "      <td>15197.0</td>\n",
       "      <td>United Kingdom</td>\n",
       "      <td>-1.25</td>\n",
       "      <td>12</td>\n",
       "      <td>2011</td>\n",
       "    </tr>\n",
       "    <tr>\n",
       "      <th>516386</th>\n",
       "      <td>C579890</td>\n",
       "      <td>23374</td>\n",
       "      <td>RED SPOT PAPER GIFT BAG</td>\n",
       "      <td>-1</td>\n",
       "      <td>2011-12-01 08:14:00</td>\n",
       "      <td>0.82</td>\n",
       "      <td>15197.0</td>\n",
       "      <td>United Kingdom</td>\n",
       "      <td>-0.82</td>\n",
       "      <td>12</td>\n",
       "      <td>2011</td>\n",
       "    </tr>\n",
       "    <tr>\n",
       "      <th>516387</th>\n",
       "      <td>C579890</td>\n",
       "      <td>84945</td>\n",
       "      <td>MULTI COLOUR SILVER T-LIGHT HOLDER</td>\n",
       "      <td>-2</td>\n",
       "      <td>2011-12-01 08:14:00</td>\n",
       "      <td>0.85</td>\n",
       "      <td>15197.0</td>\n",
       "      <td>United Kingdom</td>\n",
       "      <td>-1.70</td>\n",
       "      <td>12</td>\n",
       "      <td>2011</td>\n",
       "    </tr>\n",
       "    <tr>\n",
       "      <th>516388</th>\n",
       "      <td>C579891</td>\n",
       "      <td>23485</td>\n",
       "      <td>BOTANICAL GARDENS WALL CLOCK</td>\n",
       "      <td>-1</td>\n",
       "      <td>2011-12-01 08:18:00</td>\n",
       "      <td>25.00</td>\n",
       "      <td>13644.0</td>\n",
       "      <td>United Kingdom</td>\n",
       "      <td>-25.00</td>\n",
       "      <td>12</td>\n",
       "      <td>2011</td>\n",
       "    </tr>\n",
       "    <tr>\n",
       "      <th>...</th>\n",
       "      <td>...</td>\n",
       "      <td>...</td>\n",
       "      <td>...</td>\n",
       "      <td>...</td>\n",
       "      <td>...</td>\n",
       "      <td>...</td>\n",
       "      <td>...</td>\n",
       "      <td>...</td>\n",
       "      <td>...</td>\n",
       "      <td>...</td>\n",
       "      <td>...</td>\n",
       "    </tr>\n",
       "    <tr>\n",
       "      <th>541904</th>\n",
       "      <td>581587</td>\n",
       "      <td>22613</td>\n",
       "      <td>PACK OF 20 SPACEBOY NAPKINS</td>\n",
       "      <td>12</td>\n",
       "      <td>2011-12-09 12:50:00</td>\n",
       "      <td>0.85</td>\n",
       "      <td>12680.0</td>\n",
       "      <td>France</td>\n",
       "      <td>10.20</td>\n",
       "      <td>12</td>\n",
       "      <td>2011</td>\n",
       "    </tr>\n",
       "    <tr>\n",
       "      <th>541905</th>\n",
       "      <td>581587</td>\n",
       "      <td>22899</td>\n",
       "      <td>CHILDREN'S APRON DOLLY GIRL</td>\n",
       "      <td>6</td>\n",
       "      <td>2011-12-09 12:50:00</td>\n",
       "      <td>2.10</td>\n",
       "      <td>12680.0</td>\n",
       "      <td>France</td>\n",
       "      <td>12.60</td>\n",
       "      <td>12</td>\n",
       "      <td>2011</td>\n",
       "    </tr>\n",
       "    <tr>\n",
       "      <th>541906</th>\n",
       "      <td>581587</td>\n",
       "      <td>23254</td>\n",
       "      <td>CHILDRENS CUTLERY DOLLY GIRL</td>\n",
       "      <td>4</td>\n",
       "      <td>2011-12-09 12:50:00</td>\n",
       "      <td>4.15</td>\n",
       "      <td>12680.0</td>\n",
       "      <td>France</td>\n",
       "      <td>16.60</td>\n",
       "      <td>12</td>\n",
       "      <td>2011</td>\n",
       "    </tr>\n",
       "    <tr>\n",
       "      <th>541907</th>\n",
       "      <td>581587</td>\n",
       "      <td>23255</td>\n",
       "      <td>CHILDRENS CUTLERY CIRCUS PARADE</td>\n",
       "      <td>4</td>\n",
       "      <td>2011-12-09 12:50:00</td>\n",
       "      <td>4.15</td>\n",
       "      <td>12680.0</td>\n",
       "      <td>France</td>\n",
       "      <td>16.60</td>\n",
       "      <td>12</td>\n",
       "      <td>2011</td>\n",
       "    </tr>\n",
       "    <tr>\n",
       "      <th>541908</th>\n",
       "      <td>581587</td>\n",
       "      <td>22138</td>\n",
       "      <td>BAKING SET 9 PIECE RETROSPOT</td>\n",
       "      <td>3</td>\n",
       "      <td>2011-12-09 12:50:00</td>\n",
       "      <td>4.95</td>\n",
       "      <td>12680.0</td>\n",
       "      <td>France</td>\n",
       "      <td>14.85</td>\n",
       "      <td>12</td>\n",
       "      <td>2011</td>\n",
       "    </tr>\n",
       "  </tbody>\n",
       "</table>\n",
       "<p>25525 rows × 11 columns</p>\n",
       "</div>"
      ],
      "text/plain": [
       "       InvoiceNo StockCode                         Description  Quantity  \\\n",
       "516384   C579889     23245          SET OF 3 REGENCY CAKE TINS        -8   \n",
       "516385   C579890     84947   ANTIQUE SILVER TEA GLASS ENGRAVED        -1   \n",
       "516386   C579890     23374             RED SPOT PAPER GIFT BAG        -1   \n",
       "516387   C579890     84945  MULTI COLOUR SILVER T-LIGHT HOLDER        -2   \n",
       "516388   C579891     23485       BOTANICAL GARDENS WALL CLOCK         -1   \n",
       "...          ...       ...                                 ...       ...   \n",
       "541904    581587     22613         PACK OF 20 SPACEBOY NAPKINS        12   \n",
       "541905    581587     22899        CHILDREN'S APRON DOLLY GIRL          6   \n",
       "541906    581587     23254       CHILDRENS CUTLERY DOLLY GIRL          4   \n",
       "541907    581587     23255     CHILDRENS CUTLERY CIRCUS PARADE         4   \n",
       "541908    581587     22138       BAKING SET 9 PIECE RETROSPOT          3   \n",
       "\n",
       "               InvoiceDate  UnitPrice  CustomerID         Country  Revenue  \\\n",
       "516384 2011-12-01 08:12:00       4.15     13853.0  United Kingdom   -33.20   \n",
       "516385 2011-12-01 08:14:00       1.25     15197.0  United Kingdom    -1.25   \n",
       "516386 2011-12-01 08:14:00       0.82     15197.0  United Kingdom    -0.82   \n",
       "516387 2011-12-01 08:14:00       0.85     15197.0  United Kingdom    -1.70   \n",
       "516388 2011-12-01 08:18:00      25.00     13644.0  United Kingdom   -25.00   \n",
       "...                    ...        ...         ...             ...      ...   \n",
       "541904 2011-12-09 12:50:00       0.85     12680.0          France    10.20   \n",
       "541905 2011-12-09 12:50:00       2.10     12680.0          France    12.60   \n",
       "541906 2011-12-09 12:50:00       4.15     12680.0          France    16.60   \n",
       "541907 2011-12-09 12:50:00       4.15     12680.0          France    16.60   \n",
       "541908 2011-12-09 12:50:00       4.95     12680.0          France    14.85   \n",
       "\n",
       "        InvoiceMonth  InvoiceYear  \n",
       "516384            12         2011  \n",
       "516385            12         2011  \n",
       "516386            12         2011  \n",
       "516387            12         2011  \n",
       "516388            12         2011  \n",
       "...              ...          ...  \n",
       "541904            12         2011  \n",
       "541905            12         2011  \n",
       "541906            12         2011  \n",
       "541907            12         2011  \n",
       "541908            12         2011  \n",
       "\n",
       "[25525 rows x 11 columns]"
      ]
     },
     "execution_count": 28,
     "metadata": {},
     "output_type": "execute_result"
    }
   ],
   "source": [
    "#Looking into the december 2011 data \n",
    "df[(df['InvoiceMonth']==12)&(df['InvoiceYear']==2011)]\n"
   ]
  },
  {
   "cell_type": "markdown",
   "id": "0340c814",
   "metadata": {},
   "source": [
    "Based on the Decenber 2011 data, we understand that the data set does not include any purchase after 9th 2011. We need to make sure we consider this within our analysis and conclusion. On a seperate note, we can see that the revenue grows steadily starting from september 2011 all the way up to December 2011, November being the best month interms of revenue."
   ]
  },
  {
   "cell_type": "markdown",
   "id": "634be531",
   "metadata": {},
   "source": [
    "## Monthly Items Sold Overview"
   ]
  },
  {
   "cell_type": "code",
   "execution_count": 36,
   "id": "09e101ce",
   "metadata": {},
   "outputs": [
    {
     "data": {
      "text/plain": [
       "Text(0, 0.5, 'Items Sold')"
      ]
     },
     "execution_count": 36,
     "metadata": {},
     "output_type": "execute_result"
    },
    {
     "data": {
      "image/png": "[encoded data removed]",
      "text/plain": [
       "<Figure size 1080x720 with 1 Axes>"
      ]
     },
     "metadata": {
      "needs_background": "light"
     },
     "output_type": "display_data"
    }
   ],
   "source": [
    "df_quantity=df.groupby(['InvoiceMonth','InvoiceYear'])['Quantity'].sum().reset_index()\n",
    "plt.figure(figsize=(15,10))\n",
    "sns.barplot(x='InvoiceMonth',y='Quantity',data=df_quantity)\n",
    "plt.title('Monthly Items Sold')\n",
    "plt.xlabel('Month')\n",
    "plt.ylabel('Items Sold')"
   ]
  },
  {
   "cell_type": "markdown",
   "id": "2d2fc124",
   "metadata": {},
   "source": [
    "## Monthly Active Users"
   ]
  },
  {
   "cell_type": "code",
   "execution_count": 39,
   "id": "44ad6803",
   "metadata": {},
   "outputs": [
    {
     "data": {
      "text/plain": [
       "Text(0.5, 0, 'Month')"
      ]
     },
     "execution_count": 39,
     "metadata": {},
     "output_type": "execute_result"
    },
    {
     "data": {
      "image/png": "[encoded data removed]",
      "text/plain": [
       "<Figure size 1440x1080 with 1 Axes>"
      ]
     },
     "metadata": {
      "needs_background": "light"
     },
     "output_type": "display_data"
    }
   ],
   "source": [
    "df_active=df.groupby(['InvoiceMonth','InvoiceYear'])['CustomerID'].nunique().reset_index()\n",
    "plt.figure(figsize=(20,15))\n",
    "sns.barplot(x='InvoiceMonth',y=\"CustomerID\",hue='InvoiceYear',data=df_active)\n",
    "plt.title('Monthly Active Customers')\n",
    "plt.ylabel('Active Users')\n",
    "plt.xlabel('Month')"
   ]
  },
  {
   "cell_type": "markdown",
   "id": "b1226cd4",
   "metadata": {},
   "source": [
    "## Average Revenue Monthly"
   ]
  },
  {
   "cell_type": "code",
   "execution_count": 41,
   "id": "c3da8464",
   "metadata": {},
   "outputs": [
    {
     "data": {
      "text/plain": [
       "Text(0, 0.5, 'Revenue')"
      ]
     },
     "execution_count": 41,
     "metadata": {},
     "output_type": "execute_result"
    },
    {
     "data": {
      "image/png": "[encoded data removed]",
      "text/plain": [
       "<Figure size 1224x720 with 1 Axes>"
      ]
     },
     "metadata": {
      "needs_background": "light"
     },
     "output_type": "display_data"
    }
   ],
   "source": [
    "df_average_revenue=df.groupby(['InvoiceMonth','InvoiceYear'])['Revenue'].mean().reset_index()\n",
    "plt.figure(figsize=(17,10))\n",
    "sns.barplot(x='InvoiceMonth',y='Revenue',data=df_average_revenue)\n",
    "plt.title('Average Monthly Revenue')\n",
    "plt.xlabel('Month')\n",
    "plt.ylabel('Revenue')"
   ]
  },
  {
   "cell_type": "markdown",
   "id": "9b847d6f",
   "metadata": {},
   "source": [
    "## New vs Existing Users"
   ]
  },
  {
   "cell_type": "code",
   "execution_count": 44,
   "id": "e74a5c4b",
   "metadata": {},
   "outputs": [
    {
     "data": {
      "text/html": [
       "<div>\n",
       "<style scoped>\n",
       "    .dataframe tbody tr th:only-of-type {\n",
       "        vertical-align: middle;\n",
       "    }\n",
       "\n",
       "    .dataframe tbody tr th {\n",
       "        vertical-align: top;\n",
       "    }\n",
       "\n",
       "    .dataframe thead th {\n",
       "        text-align: right;\n",
       "    }\n",
       "</style>\n",
       "<table border=\"1\" class=\"dataframe\">\n",
       "  <thead>\n",
       "    <tr style=\"text-align: right;\">\n",
       "      <th></th>\n",
       "      <th>InvoiceNo</th>\n",
       "      <th>StockCode</th>\n",
       "      <th>Description</th>\n",
       "      <th>Quantity</th>\n",
       "      <th>InvoiceDate</th>\n",
       "      <th>UnitPrice</th>\n",
       "      <th>CustomerID</th>\n",
       "      <th>Country</th>\n",
       "      <th>Revenue</th>\n",
       "      <th>InvoiceMonth</th>\n",
       "      <th>InvoiceYear</th>\n",
       "      <th>FirstPurchaseDate_x</th>\n",
       "      <th>UserType</th>\n",
       "      <th>FirstPurchaseDate_y</th>\n",
       "      <th>FirstPurchaseDate</th>\n",
       "    </tr>\n",
       "  </thead>\n",
       "  <tbody>\n",
       "    <tr>\n",
       "      <th>0</th>\n",
       "      <td>536365</td>\n",
       "      <td>85123A</td>\n",
       "      <td>WHITE HANGING HEART T-LIGHT HOLDER</td>\n",
       "      <td>6</td>\n",
       "      <td>2010-12-01 08:26:00</td>\n",
       "      <td>2.55</td>\n",
       "      <td>17850.0</td>\n",
       "      <td>United Kingdom</td>\n",
       "      <td>15.30</td>\n",
       "      <td>12</td>\n",
       "      <td>2010</td>\n",
       "      <td>2010-12-01 08:26:00</td>\n",
       "      <td>New</td>\n",
       "      <td>2010-12-01 08:26:00</td>\n",
       "      <td>2010-12-01 08:26:00</td>\n",
       "    </tr>\n",
       "    <tr>\n",
       "      <th>1</th>\n",
       "      <td>536365</td>\n",
       "      <td>71053</td>\n",
       "      <td>WHITE METAL LANTERN</td>\n",
       "      <td>6</td>\n",
       "      <td>2010-12-01 08:26:00</td>\n",
       "      <td>3.39</td>\n",
       "      <td>17850.0</td>\n",
       "      <td>United Kingdom</td>\n",
       "      <td>20.34</td>\n",
       "      <td>12</td>\n",
       "      <td>2010</td>\n",
       "      <td>2010-12-01 08:26:00</td>\n",
       "      <td>New</td>\n",
       "      <td>2010-12-01 08:26:00</td>\n",
       "      <td>2010-12-01 08:26:00</td>\n",
       "    </tr>\n",
       "    <tr>\n",
       "      <th>2</th>\n",
       "      <td>536365</td>\n",
       "      <td>84406B</td>\n",
       "      <td>CREAM CUPID HEARTS COAT HANGER</td>\n",
       "      <td>8</td>\n",
       "      <td>2010-12-01 08:26:00</td>\n",
       "      <td>2.75</td>\n",
       "      <td>17850.0</td>\n",
       "      <td>United Kingdom</td>\n",
       "      <td>22.00</td>\n",
       "      <td>12</td>\n",
       "      <td>2010</td>\n",
       "      <td>2010-12-01 08:26:00</td>\n",
       "      <td>New</td>\n",
       "      <td>2010-12-01 08:26:00</td>\n",
       "      <td>2010-12-01 08:26:00</td>\n",
       "    </tr>\n",
       "    <tr>\n",
       "      <th>3</th>\n",
       "      <td>536365</td>\n",
       "      <td>84029G</td>\n",
       "      <td>KNITTED UNION FLAG HOT WATER BOTTLE</td>\n",
       "      <td>6</td>\n",
       "      <td>2010-12-01 08:26:00</td>\n",
       "      <td>3.39</td>\n",
       "      <td>17850.0</td>\n",
       "      <td>United Kingdom</td>\n",
       "      <td>20.34</td>\n",
       "      <td>12</td>\n",
       "      <td>2010</td>\n",
       "      <td>2010-12-01 08:26:00</td>\n",
       "      <td>New</td>\n",
       "      <td>2010-12-01 08:26:00</td>\n",
       "      <td>2010-12-01 08:26:00</td>\n",
       "    </tr>\n",
       "    <tr>\n",
       "      <th>4</th>\n",
       "      <td>536365</td>\n",
       "      <td>84029E</td>\n",
       "      <td>RED WOOLLY HOTTIE WHITE HEART.</td>\n",
       "      <td>6</td>\n",
       "      <td>2010-12-01 08:26:00</td>\n",
       "      <td>3.39</td>\n",
       "      <td>17850.0</td>\n",
       "      <td>United Kingdom</td>\n",
       "      <td>20.34</td>\n",
       "      <td>12</td>\n",
       "      <td>2010</td>\n",
       "      <td>2010-12-01 08:26:00</td>\n",
       "      <td>New</td>\n",
       "      <td>2010-12-01 08:26:00</td>\n",
       "      <td>2010-12-01 08:26:00</td>\n",
       "    </tr>\n",
       "  </tbody>\n",
       "</table>\n",
       "</div>"
      ],
      "text/plain": [
       "  InvoiceNo StockCode                          Description  Quantity  \\\n",
       "0    536365    85123A   WHITE HANGING HEART T-LIGHT HOLDER         6   \n",
       "1    536365     71053                  WHITE METAL LANTERN         6   \n",
       "2    536365    84406B       CREAM CUPID HEARTS COAT HANGER         8   \n",
       "3    536365    84029G  KNITTED UNION FLAG HOT WATER BOTTLE         6   \n",
       "4    536365    84029E       RED WOOLLY HOTTIE WHITE HEART.         6   \n",
       "\n",
       "          InvoiceDate  UnitPrice  CustomerID         Country  Revenue  \\\n",
       "0 2010-12-01 08:26:00       2.55     17850.0  United Kingdom    15.30   \n",
       "1 2010-12-01 08:26:00       3.39     17850.0  United Kingdom    20.34   \n",
       "2 2010-12-01 08:26:00       2.75     17850.0  United Kingdom    22.00   \n",
       "3 2010-12-01 08:26:00       3.39     17850.0  United Kingdom    20.34   \n",
       "4 2010-12-01 08:26:00       3.39     17850.0  United Kingdom    20.34   \n",
       "\n",
       "   InvoiceMonth  InvoiceYear FirstPurchaseDate_x UserType FirstPurchaseDate_y  \\\n",
       "0            12         2010 2010-12-01 08:26:00      New 2010-12-01 08:26:00   \n",
       "1            12         2010 2010-12-01 08:26:00      New 2010-12-01 08:26:00   \n",
       "2            12         2010 2010-12-01 08:26:00      New 2010-12-01 08:26:00   \n",
       "3            12         2010 2010-12-01 08:26:00      New 2010-12-01 08:26:00   \n",
       "4            12         2010 2010-12-01 08:26:00      New 2010-12-01 08:26:00   \n",
       "\n",
       "    FirstPurchaseDate  \n",
       "0 2010-12-01 08:26:00  \n",
       "1 2010-12-01 08:26:00  \n",
       "2 2010-12-01 08:26:00  \n",
       "3 2010-12-01 08:26:00  \n",
       "4 2010-12-01 08:26:00  "
      ]
     },
     "execution_count": 44,
     "metadata": {},
     "output_type": "execute_result"
    }
   ],
   "source": [
    "df_first_purchase=df.groupby(['CustomerID'])['InvoiceDate'].min().reset_index()\n",
    "#Renaming column\n",
    "df_first_purchase.columns=['CustomerID','FirstPurchaseDate']\n",
    "#Merging\n",
    "df=pd.merge(df,df_first_purchase,on='CustomerID')\n",
    "df['UserType']='New'\n",
    "df.loc[df['InvoiceDate']>df['FirstPurchaseDate'],'UserType']='Existing'\n",
    "df.head()"
   ]
  },
  {
   "cell_type": "code",
   "execution_count": 49,
   "id": "3881f1d5",
   "metadata": {},
   "outputs": [
    {
     "data": {
      "text/plain": [
       "Text(23.128221450617282, 0.5, 'Revenue')"
      ]
     },
     "execution_count": 49,
     "metadata": {},
     "output_type": "execute_result"
    },
    {
     "data": {
      "text/plain": [
       "<Figure size 1296x1800 with 0 Axes>"
      ]
     },
     "metadata": {},
     "output_type": "display_data"
    },
    {
     "data": {
      "image/png": "[encoded data removed]",
      "text/plain": [
       "<Figure size 1630.95x864 with 1 Axes>"
      ]
     },
     "metadata": {
      "needs_background": "light"
     },
     "output_type": "display_data"
    }
   ],
   "source": [
    "df_new_revenue=df.groupby(['InvoiceMonth','InvoiceYear','UserType'])['Revenue'].sum().reset_index()\n",
    "plt.figure(figsize=(18,25))\n",
    "sns.relplot(x=\"InvoiceMonth\",y=\"Revenue\",hue=\"UserType\",data=df_new_revenue,kind=\"line\",height=12,aspect=18/10)\n",
    "plt.title('New vs Existing customer revenue overview')\n",
    "plt.xlabel('Month')\n",
    "plt.ylabel('Revenue')"
   ]
  },
  {
   "cell_type": "code",
   "execution_count": null,
   "id": "57cf6984",
   "metadata": {},
   "outputs": [],
   "source": []
  }
 ],
 "metadata": {
  "kernelspec": {
   "display_name": "Python 3 (ipykernel)",
   "language": "python",
   "name": "python3"
  },
  "language_info": {
   "codemirror_mode": {
    "name": "ipython",
    "version": 3
   },
   "file_extension": ".py",
   "mimetype": "text/x-python",
   "name": "python",
   "nbconvert_exporter": "python",
   "pygments_lexer": "ipython3",
   "version": "3.9.12"
  }
 },
 "nbformat": 4,
 "nbformat_minor": 5
}
